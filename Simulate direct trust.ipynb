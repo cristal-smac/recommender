{
 "cells": [
  {
   "cell_type": "markdown",
   "metadata": {},
   "source": [
    "# The simulation of BPAs generation\n",
    "\n",
    "\n",
    "In the simulation setup, the multiagent system consists of resource provider agents and resource client agents. \n",
    "The client agent demands a resource provider agent for resources. However, the probability of providing a satisfying resource is fixed by P(P is in [0,1]). However, some round it decides to go from genuine to malicious, or the other way around. We have to check if the proposed method can have a quick response to the sudden change in this experiment."
   ]
  },
  {
   "cell_type": "markdown",
   "metadata": {},
   "source": [
    "1. The required modules"
   ]
  },
  {
   "cell_type": "code",
   "execution_count": 1,
   "metadata": {},
   "outputs": [],
   "source": [
    "import random\n",
    "import math\n",
    "import matplotlib.pyplot as plt"
   ]
  },
  {
   "cell_type": "markdown",
   "metadata": {},
   "source": [
    "2. The multiagent system consist of two agent classes, one is the resource provider agent and another is resource client agents"
   ]
  },
  {
   "cell_type": "code",
   "execution_count": 2,
   "metadata": {},
   "outputs": [],
   "source": [
    "class Provider():\n",
    "    def __init__(self,ID,performance):\n",
    "        self.ID=ID  #Each provider agent has an ID\n",
    "        self.performance=performance #probability of successfully interaction;or satisfying resources \n",
    "        \n",
    "class Client():\n",
    "    def __init__(self,ID): ###设置每个目击者的诚实度\n",
    "        self.ID=ID\n",
    "        self.Memory_DS={}\n",
    "        self.Memory_BRS={} "
   ]
  },
  {
   "cell_type": "markdown",
   "metadata": {},
   "source": [
    "3. Then is the multiagent system for experiments. The MAS can generate agents, run tests, and change resource providers' performance, namely from genuine to malicious. "
   ]
  },
  {
   "cell_type": "code",
   "execution_count": 9,
   "metadata": {},
   "outputs": [],
   "source": [
    "class MAS():\n",
    "    def __init__(self,Provider_Number,Witness_Number,pp):\n",
    "        self.Provider_Number=Provider_Number\n",
    "        self.Witness_Number=Witness_Number\n",
    "        self.Provider_List=[] #trustee agents \n",
    "        self.Client_List=[] # adviser agent\n",
    "        self.pp=pp\n",
    "        self.Generate_Agents()\n",
    "    \n",
    "    def Generate_Agents(self): \n",
    "        i,j=1,1\n",
    "        while i<=self.Provider_Number:\n",
    "            self.Provider_List.append(Provider(i,self.pp))#random.choice(self.pp)))\n",
    "            i+=1        \n",
    "        while j<=self.Witness_Number:\n",
    "            self.Client_List.append(Client(j))\n",
    "            j+=1\n",
    "        return\n",
    "     \n",
    "    def Run_Test(self):\n",
    "        for c in self.Client_List:\n",
    "            A,B,C=self.ineract_once(c) \n",
    "        return A,B,C\n",
    "    \n",
    "    def ineract_once(self,client):\n",
    "        provider=random.choice(self.Provider_List) #randomly selecting a resource provider agent\n",
    "        \n",
    "        if provider in client.Memory_DS:\n",
    "            Details=client.Memory_DS[provider]\n",
    "        else:\n",
    "            Details=(0,0,0) #前三个是最近4次，第五个是次数    （4个结果，一个交互次数）\n",
    "            \n",
    "        if provider in client.Memory_BRS:\n",
    "            result=client.Memory_BRS[provider]\n",
    "        else:\n",
    "            result=[0,0]\n",
    "            \n",
    "        #CHECK INTERACTIIVE RESULT\n",
    "        if random.random()<provider.performance:\n",
    "            CurrentP=1\n",
    "            S=result[0]\n",
    "            result[0]=S+1\n",
    "        else:\n",
    "            CurrentP=0\n",
    "            F=result[1]\n",
    "            result[1]=F+1\n",
    "            \n",
    "        #先求Difference\n",
    "        if Details[2]==0:\n",
    "            Difference,History=0,0\n",
    "            SatisP=CurrentP\n",
    "        elif Details[2]>=2: \n",
    "            History=sum(list(Details[0:2]))/2\n",
    "            Difference=abs(History-CurrentP)\n",
    "            c=math.exp(-1+Difference)/(math.exp(-1+Difference)+math.exp(1))\n",
    "            SatisP=(1-c)*History+c*CurrentP\n",
    "        else:\n",
    "            History=sum(list(Details)[0:(Details[2])])/(Details[2])\n",
    "            Difference=abs(History-CurrentP)\n",
    "            c=math.exp(-1+Difference)/(math.exp(-1+Difference)+math.exp(1))\n",
    "            SatisP=(1-c)*History+c*CurrentP\n",
    "        Revised_Details=(SatisP,Details[0],Details[2]+1)        \n",
    "        client.Memory_DS[provider]=Revised_Details\n",
    "        client.Memory_BRS[provider]=result\n",
    "        return provider.performance, Revised_Details[0], (result[0])/(sum(result)+1)\n",
    "    \n",
    "    def change_performance(self):\n",
    "        for pro in self.Provider_List:\n",
    "            pp=pro.performance\n",
    "            pro.performance=1-pp\n",
    "        return   "
   ]
  },
  {
   "cell_type": "markdown",
   "metadata": {},
   "source": [
    "# Run tests"
   ]
  },
  {
   "cell_type": "code",
   "execution_count": 43,
   "metadata": {},
   "outputs": [
    {
     "data": {
      "image/png": "[encoded data removed]",
      "text/plain": [
       "<Figure size 432x288 with 1 Axes>"
      ]
     },
     "metadata": {
      "needs_background": "light"
     },
     "output_type": "display_data"
    }
   ],
   "source": [
    "YES,NO=0,0\n",
    "for i in range(0,2):\n",
    "    w_num,p_num,rd,r_num=1,1,1,20 #we use one resource client, one resource provider, and run 20 interactions,and the provider changes it performance in round 10\n",
    "    '''\n",
    "    We can also change r_num=200 to see the result\n",
    "    '''\n",
    "    if i==0:\n",
    "        pp=0.1\n",
    "    elif i==1:\n",
    "        pp=0.9\n",
    "    test=MAS(p_num,w_num,pp)\n",
    "    AA,BB,CC=[],[],[] #To present the fixed probability, the accumulabe absolute error, and r/(r+s+1) respectively\n",
    "    while rd<r_num:\n",
    "        A,B,C=test.Run_Test()\n",
    "        if rd==round(r_num/2, 0):\n",
    "            test.change_performance()\n",
    "        if rd>r_num/2: #we record the simulation result when the provider changed its performance\n",
    "            AA.append(A)\n",
    "            BB.append(B)\n",
    "            CC.append(C)\n",
    "        rd=rd+1  \n",
    "    #Draw figures\n",
    "    X=[abs(BB[i]-AA[i]) for i in range(0,len(AA))]\n",
    "    Y=[abs(CC[i]-AA[i]) for i in range(0,len(AA))]\n",
    "    XX=[sum(X[0:j]) for j in range(0,5)]\n",
    "    YY=[sum(Y[0:j]) for j in range(0,5)]\n",
    "    if sum(XX)>=sum(YY):\n",
    "        NO= NO+1\n",
    "    else:\n",
    "        YES=YES+1\n",
    "    if pp==0.1:\n",
    "        plt.plot([I for I in range(len(YY))], YY, color=\"r\", linestyle=\"--\",marker = 'v',markerfacecolor='r',linewidth=2.0, label=r\"$\\frac{r}{r+s+1}, P_{s}=0.1, N_{i1}=10$\")\n",
    "        plt.plot([I for I in range(len(XX))], XX, color=\"b\", linestyle=\"--\",marker = 'o',markerfacecolor='b',linewidth=2.0, label=r'Proposed direct trust,  $P_{s}=0.1, N_{i1}=10$')\n",
    "    elif pp==0.9:\n",
    "        plt.plot([I for I in range(len(YY))], YY, color=\"fuchsia\", linestyle=\"--\",marker = 's',markerfacecolor='r',linewidth=2.0, label=r\"$\\frac{r}{r+s+1}, P_{s}=0.9, N_{i1}=10$\")\n",
    "        plt.plot([I for I in range(len(XX))], XX, color=\"g\", linestyle=\"--\",marker = '>',markerfacecolor='b',linewidth=2.0, label=r\"Proposed direct trust, $P_{s}=0.9, N_{i1}=10$\")\n",
    "    plt.legend()\n",
    "plt.xlabel(\"Round\")\n",
    "plt.ylabel(\"Cumulative absolute error\")\n",
    "plt.show()"
   ]
  },
  {
   "cell_type": "markdown",
   "metadata": {},
   "source": [
    "Then we check the rate of winning, we run 1000 times, if the accumulated 5-round absolute errors obtained by the proposed method is bigger, we say it is a win. After that we can receive the rate of win. "
   ]
  },
  {
   "cell_type": "code",
   "execution_count": 45,
   "metadata": {},
   "outputs": [
    {
     "name": "stdout",
     "output_type": "stream",
     "text": [
      "Rate of being better 0.988 988 12\n"
     ]
    }
   ],
   "source": [
    "YES,NO=0,0\n",
    "for i in range(0,1000):\n",
    "    w_num,p_num,rd,r_num,pp=1,1,1,20,0.9  #we use one resource client, one resource provider, and run 20 interactions,and the provider changes it performance in round 1\n",
    "    '''We can also change r_num=200 and pp=0.7 to have more results.'''\n",
    "    test=MAS(p_num,w_num,pp)\n",
    "    AA,BB,CC=[],[],[] #To present the fixed probability, the accumulabe absolute error, and r/(r+s+1) respectively\n",
    "    while rd<r_num:\n",
    "        A,B,C=test.Run_Test()\n",
    "        if rd==round(r_num/2, 0):\n",
    "            test.change_performance()\n",
    "        if rd>r_num/2: #we record the simulation result when the provider changed its performance\n",
    "            AA.append(A)\n",
    "            BB.append(B)\n",
    "            CC.append(C)\n",
    "        rd=rd+1  \n",
    "    X=[abs(BB[i]-AA[i]) for i in range(0,len(AA))]\n",
    "    Y=[abs(CC[i]-AA[i]) for i in range(0,len(AA))]\n",
    "    XX=[sum(X[0:j]) for j in range(0,5)]\n",
    "    YY=[sum(Y[0:j]) for j in range(0,5)]\n",
    "    if XX[-1]>YY[-1]:\n",
    "        NO= NO+1\n",
    "    else:\n",
    "        YES=YES+1    \n",
    "print(\"Rate of being better\",YES/(NO+YES),YES,NO)\n"
   ]
  }
 ],
 "metadata": {
  "kernelspec": {
   "display_name": "Python 3",
   "language": "python",
   "name": "python3"
  },
  "language_info": {
   "codemirror_mode": {
    "name": "ipython",
    "version": 3
   },
   "file_extension": ".py",
   "mimetype": "text/x-python",
   "name": "python",
   "nbconvert_exporter": "python",
   "pygments_lexer": "ipython3",
   "version": "3.7.3"
  }
 },
 "nbformat": 4,
 "nbformat_minor": 2
}
